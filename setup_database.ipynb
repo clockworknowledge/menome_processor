{
 "cells": [
  {
   "cell_type": "markdown",
   "metadata": {},
   "source": [
    "# Setup Neo4j Database for Processor Example\n",
    "\n",
    "Run this notebook to initialize the database for the processor application. Set the parameters accordingly to match those you setup in the .env file in the /config folder (see README.MD)"
   ]
  },
  {
   "cell_type": "code",
   "execution_count": 17,
   "metadata": {},
   "outputs": [
    {
     "name": "stdout",
     "output_type": "stream",
     "text": [
      "Requirement already satisfied: neo4j in c:\\clockworkdevelopment\\menome_processor\\venv\\lib\\site-packages (5.11.0)\n",
      "Requirement already satisfied: pytz in c:\\clockworkdevelopment\\menome_processor\\venv\\lib\\site-packages (from neo4j) (2023.3.post1)\n",
      "Note: you may need to restart the kernel to use updated packages.\n"
     ]
    },
    {
     "name": "stderr",
     "output_type": "stream",
     "text": [
      "\n",
      "[notice] A new release of pip is available: 23.3.2 -> 24.0\n",
      "[notice] To update, run: python.exe -m pip install --upgrade pip\n"
     ]
    },
    {
     "name": "stdout",
     "output_type": "stream",
     "text": [
      "Requirement already satisfied: passlib in c:\\clockworkdevelopment\\menome_processor\\venv\\lib\\site-packages (1.7.4)\n",
      "Requirement already satisfied: bcrypt in c:\\clockworkdevelopment\\menome_processor\\venv\\lib\\site-packages (4.1.2)\n",
      "Note: you may need to restart the kernel to use updated packages.\n"
     ]
    },
    {
     "name": "stderr",
     "output_type": "stream",
     "text": [
      "\n",
      "[notice] A new release of pip is available: 23.3.2 -> 24.0\n",
      "[notice] To update, run: python.exe -m pip install --upgrade pip\n"
     ]
    }
   ],
   "source": [
    "%pip install neo4j\n",
    "%pip install passlib bcrypt\n",
    "\n"
   ]
  },
  {
   "cell_type": "code",
   "execution_count": 18,
   "metadata": {},
   "outputs": [],
   "source": [
    "from neo4j import GraphDatabase\n",
    "from neo4j.exceptions import Neo4jError\n",
    "from passlib.context import CryptContext\n",
    "from uuid import uuid4"
   ]
  },
  {
   "cell_type": "code",
   "execution_count": 19,
   "metadata": {},
   "outputs": [],
   "source": [
    "# Configuration Parameters\n",
    "NEO4J_URI = 'bolt://localhost:7687'\n",
    "NEO4J_USERNAME = 'neo4j'\n",
    "NEO4J_PASSWORD = 'password'  # Change this to your Neo4j password\n",
    "\n",
    "DEFAULT_USER_UUID='00000000-0000-0000-0000-000000000000'  # Default user UUID\n",
    "DEFAULT_USER_USERNAME='test'  # Default user name\n",
    "DEFAULT_USER_NAME='test'  # Default user name\n",
    "DEFAULT_USER_EMAIL=\"test@user.com\"  # Default user email\n",
    "DEFAULT_USER_PASSWORD = 'password'  # Default password for the user in your database\n",
    "\n",
    "EMBEDDING_DIMENSION = 1536  # Example embedding dimension, adjust as needed\n"
   ]
  },
  {
   "cell_type": "code",
   "execution_count": 21,
   "metadata": {},
   "outputs": [],
   "source": [
    "# Initialize Neo4j Driver\n",
    "driver = GraphDatabase.driver(NEO4J_URI, auth=(NEO4J_USERNAME, NEO4J_PASSWORD))\n",
    "\n",
    "# Password hashing context\n",
    "pwd_context = CryptContext(schemes=[\"bcrypt\"], deprecated=\"auto\")\n"
   ]
  },
  {
   "cell_type": "code",
   "execution_count": 22,
   "metadata": {},
   "outputs": [],
   "source": [
    "def initialize_db():\n",
    "    messages = []\n",
    "    with driver.session() as session:\n",
    "         # Create UUID constraint for User\n",
    "        try:\n",
    "            session.run(\"CREATE CONSTRAINT unique_user_uuid FOR (u:User) REQUIRE u.uuid IS UNIQUE\")\n",
    "        except Neo4jError as e:\n",
    "            if e.code == \"Neo.ClientError.Schema.EquivalentSchemaRuleAlreadyExists\":\n",
    "                messages.append(\"UUID constraint for User already exists.\")\n",
    "            else:\n",
    "                 messages.append(f\"Error creating UUID constraint for User: {str(e)}\")\n",
    "        \n",
    "        # Create Email constraint for User\n",
    "        try:\n",
    "            session.run(\"CREATE CONSTRAINT unique_user_email FOR (u:User) REQUIRE u.email IS UNIQUE\")\n",
    "        except Neo4jError as e:\n",
    "            if e.code == \"Neo.ClientError.Schema.EquivalentSchemaRuleAlreadyExists\":\n",
    "                messages.append(\"Email constraint for User already exists.\")\n",
    "            else:\n",
    "                 messages.append(f\"Error creating Email constraint for User: {str(e)}\")\n",
    "        \n",
    "        # Create default user    \n",
    "        try:\n",
    "            # generate bcrypt hash of the default password\n",
    "            hashed_password = pwd_context.hash(DEFAULT_USER_PASSWORD)\n",
    "            session.run(\"CREATE (u:User {uuid: $uuid, username: $username, email: $email, name: $name, password: $password, disabled: $disabled, datecreated: datetime()})\",\n",
    "                        {\"uuid\": str(DEFAULT_USER_UUID), \"username\": DEFAULT_USER_USERNAME, \"email\": DEFAULT_USER_EMAIL, \"name\": DEFAULT_USER_NAME, \"password\": hashed_password, \"disabled\": False})\n",
    "        except Neo4jError as e:\n",
    "            if e.code == \"Neo.ClientError.Schema.ConstraintValidationFailed\":\n",
    "                messages.append(\"Default user already exists.\")\n",
    "            else:\n",
    "                 messages.append(\"Error creating default user: {str(e)}\")      \n",
    "\n",
    "        # Create document uuid constraint\n",
    "        try:\n",
    "            session.run(\"CREATE CONSTRAINT document_unique_uuid FOR (u:Document) REQUIRE u.uuid IS UNIQUE\")\n",
    "        except Neo4jError as e:\n",
    "            if e.code == \"Neo.ClientError.Schema.EquivalentSchemaRuleAlreadyExists\":\n",
    "                messages.append(\"UUID constraint for Document already exists.\")\n",
    "            else:\n",
    "                raise (f\"Error creating UUID constraint for Document: {str(e)}\")\n",
    "        \n",
    "        # Create index for name on Document\n",
    "        try:\n",
    "            session.run(\"CREATE INDEX document_name FOR (n:Document) ON (n.name)\")\n",
    "        except Neo4jError as e:\n",
    "            if e.code == \"Neo.ClientError.Schema.EquivalentSchemaRuleAlreadyExists\":\n",
    "                messages.append(\"Name index for Document already exists.\")\n",
    "            else:\n",
    "                 messages.append (f\"Error creating name index for Document: {str(e)}\")\n",
    "        \n",
    "        # Create full text index for Document\n",
    "        try: \n",
    "            session.run(\"CREATE FULLTEXT INDEX titlesAndDescriptions FOR (n:Document) ON EACH [n.name, n.summary, n.text]\")\n",
    "        except Neo4jError as e:\n",
    "            if e.code == \"Neo.ClientError.Schema.EquivalentSchemaRuleAlreadyExists\":\n",
    "                messages.append(\"Full text index for Document already exists.\")\n",
    "            else:\n",
    "                 messages.append (f\"Error creating full text index for Document: {str(e)}\")    \n",
    "\n",
    "        # Create page uuid constraint\n",
    "        try:\n",
    "            session.run(\"CREATE CONSTRAINT page_unique_uuid FOR (u:Page) REQUIRE u.uuid IS UNIQUE\")\n",
    "        except Neo4jError as e:\n",
    "            if e.code == \"Neo.ClientError.Schema.EquivalentSchemaRuleAlreadyExists\":\n",
    "                messages.append(\"UUID constraint for Page already exists.\")\n",
    "            else:\n",
    "                 messages.append(\"Error creating UUID constraint for Page: {str(e)}\")\n",
    "\n",
    "        # Create full text index for Page\n",
    "        try: \n",
    "            session.run(\"CREATE FULLTEXT INDEX pageNameAndText FOR (n:Page) ON EACH [n.name, n.summary, n.text]\")\n",
    "        except Neo4jError as e:\n",
    "            if e.code == \"Neo.ClientError.Schema.EquivalentSchemaRuleAlreadyExists\":\n",
    "                messages.append(\"Full text index for Page already exists.\")\n",
    "            else:\n",
    "                 messages.append(f\"Error creating full text index for Page: {str(e)}\")    \n",
    "        \n",
    "        # Create page uuid constraint\n",
    "        try:\n",
    "            session.run(\"CREATE CONSTRAINT child_unique_uuid FOR (u:Child) REQUIRE u.uuid IS UNIQUE\")\n",
    "        except Neo4jError as e:\n",
    "            if e.code == \"Neo.ClientError.Schema.EquivalentSchemaRuleAlreadyExists\":\n",
    "                messages.append(\"UUID constraint for Child already exists.\")\n",
    "            else:\n",
    "                messages.append(f\"Error creating UUID constraint for Page: {str(e)}\")\n",
    "\n",
    "        # Create full text index for Child\n",
    "        try: \n",
    "            session.run(\"CREATE FULLTEXT INDEX childNameAndText FOR (n:Child) ON EACH [n.name, n.summary, n.text]\")\n",
    "        except Neo4jError as e:\n",
    "            if e.code == \"Neo.ClientError.Schema.EquivalentSchemaRuleAlreadyExists\":\n",
    "                messages.append(\"Full text index for Child already exists.\")\n",
    "            else:\n",
    "                 messages.append(f\"Error creating full text index for Page: {str(e)}\")  \n",
    "        # Create vector indexes\n",
    "        # Create vector index for child\n",
    "        try:\n",
    "            session.run(\n",
    "                \"CALL db.index.vector.createNodeIndex('parent_document', 'Child', 'embedding', $dimension, 'cosine')\",\n",
    "                {\"dimension\": EMBEDDING_DIMENSION},\n",
    "            )\n",
    "        except Neo4jError as e:\n",
    "            if e.code == \"Neo.ClientError.Schema.EquivalentSchemaRuleAlreadyExists\":\n",
    "                messages.append(\"Vector index for parent_document already exists.\")\n",
    "            else:\n",
    "                 messages.append(f\"Error creating full text index for Document: {str(e)}\")    \n",
    "\n",
    "        # Create vector index for pages\n",
    "        try:\n",
    "            session.run(\n",
    "                \"CALL db.index.vector.createNodeIndex('typical_rag', \"\n",
    "                \"'Page', 'embedding', $dimension, 'cosine')\",\n",
    "                {\"dimension\": EMBEDDING_DIMENSION},\n",
    "            )\n",
    "        except Neo4jError as e:\n",
    "            if e.code == \"Neo.ClientError.Schema.EquivalentSchemaRuleAlreadyExists\":\n",
    "                messages.append(\"Vector index for typical_rag already exists.\")\n",
    "            else:\n",
    "                 messages.append(f\"Error creating typical_rag: {str(e)}\")    \n",
    "\n",
    "\n",
    "        # Create vector index\n",
    "        try:\n",
    "            session.run(\n",
    "                \"CALL db.index.vector.createNodeIndex('hypothetical_questions', \"\n",
    "                \"'Question', 'embedding', $dimension, 'cosine')\",\n",
    "                {\"dimension\": EMBEDDING_DIMENSION},\n",
    "            )\n",
    "        except Neo4jError as e:\n",
    "            if e.code == \"Neo.ClientError.Schema.EquivalentSchemaRuleAlreadyExists\":\n",
    "                messages.append(\"Vector index for hypothetical_questions already exists.\")\n",
    "            else:\n",
    "                 messages.append(f\"Error creating vector index for hypothetical_questions: {str(e)}\")    \n",
    "         \n",
    "        # Create vector index\n",
    "        try:\n",
    "            session.run(\n",
    "                \"CALL db.index.vector.createNodeIndex('summary', \"\n",
    "                \"'Summary', 'embedding', $dimension, 'cosine')\",\n",
    "                {\"dimension\": EMBEDDING_DIMENSION},\n",
    "            )\n",
    "        except Neo4jError as e:\n",
    "            if e.code == \"Neo.ClientError.Schema.EquivalentSchemaRuleAlreadyExists\":\n",
    "                messages.append(\"Vector index for summary exists.\")\n",
    "            else:\n",
    "                messages.append(f\"Error creating vector index for summary: {str(e)}\")    \n",
    "        \n",
    "        # TODO: Add more initialization logic, like creating other indexes or constraints.\n",
    "\n",
    "    if messages:\n",
    "        return {\"status\": \"Database initialized with warnings\", \"messages\": messages}\n",
    "    else:\n",
    "        return {\"status\": \"Database initialized successfully\"}\n"
   ]
  },
  {
   "cell_type": "code",
   "execution_count": 23,
   "metadata": {},
   "outputs": [
    {
     "data": {
      "text/plain": [
       "{'status': 'Database initialized successfully'}"
      ]
     },
     "execution_count": 23,
     "metadata": {},
     "output_type": "execute_result"
    }
   ],
   "source": [
    "# Call the function to initialize the database\n",
    "initialize_db_result = initialize_db()\n",
    "initialize_db_result"
   ]
  }
 ],
 "metadata": {
  "kernelspec": {
   "display_name": "venv",
   "language": "python",
   "name": "python3"
  },
  "language_info": {
   "codemirror_mode": {
    "name": "ipython",
    "version": 3
   },
   "file_extension": ".py",
   "mimetype": "text/x-python",
   "name": "python",
   "nbconvert_exporter": "python",
   "pygments_lexer": "ipython3",
   "version": "3.11.7"
  }
 },
 "nbformat": 4,
 "nbformat_minor": 2
}
